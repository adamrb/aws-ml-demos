{
 "cells": [
  {
   "cell_type": "markdown",
   "metadata": {},
   "source": [
    "# AWS Translate Demos\n",
    "\n",
    "Here we look at a few ways to translate documents with AWS Translate.\n"
   ]
  },
  {
   "cell_type": "markdown",
   "metadata": {},
   "source": [
    "## 1. Using AWS CLI"
   ]
  },
  {
   "cell_type": "markdown",
   "metadata": {},
   "source": [
    "#### From Arabic to English"
   ]
  },
  {
   "cell_type": "code",
   "execution_count": 1,
   "metadata": {},
   "outputs": [
    {
     "name": "stdout",
     "output_type": "stream",
     "text": [
      "{\n",
      "    \"TargetLanguageCode\": \"en\", \n",
      "    \"TranslatedText\": \"Small drones took their glory in 2016, and each company took advantage of them in the way they find fit, for example Facebook used them to broadcast the Internet, YouTube in the field of photography and television broadcasting, and it is natural for Amazon to use them to deliver orders, which has already happened. However, it decided to innovate further, revealing a patent for an entire store from which drones fly to deliver orders, thus ensuring that many shops are located at different geographical points to minimize shipping time. Furthermore, the company confirmed that it would invest $1.5 billion to establish an air cargo base capable of accommodating approximately 40 cargo aircraft, thus improving the quality of its services as much as possible.\", \n",
      "    \"SourceLanguageCode\": \"ar\"\n",
      "}\n"
     ]
    }
   ],
   "source": [
    "%%bash\n",
    "\n",
    "aws translate translate-text \\\n",
    "        --source-language \"ar\" \\\n",
    "        --target-language \"en\" \\\n",
    "        --text \"أخذت الطائرات الصغيرة بدون طيّار مجدها خلال 2016، حيث قامت كل شركة بالاستفادة منها بالطريقة التي تجدها مناسبة، فيسبوك مثلا استخدمتها لبثّ الإنترنت، ويوتيوب في مجال التصوير والبثّ التلفزيوني، ومن الطبيعي أن تقوم أمازون باستخدامها لتوصيل الطلبات، وهذا ما جرى فعلا. لكنها قرّرت الابتكار أكثر، لتكشف عن براءة اختراع لمتجر كامل يطير تنطلق منه طائرات بدون طيّار لتوصيل الطلبات، وبالتالي يُمكن ضمان وجود الكثير من المتاجر في نقاط جغرافية مُختلفة لتقليل زمن الشحن قدر الإمكان(1). وعلاوة على ذلك، أكّدت الشركة أنها سوف تستثمر مليارا ونصف المليار دولار أميركي لإنشاء قاعدة شحن جوّية قادرة على استيعاب 40 طائرة شحن تقريبا، وهذا لتحسين جودة خدماتها قدر الإمكان\"\n"
   ]
  },
  {
   "cell_type": "markdown",
   "metadata": {},
   "source": [
    "#### From Chinese to English"
   ]
  },
  {
   "cell_type": "code",
   "execution_count": 2,
   "metadata": {},
   "outputs": [
    {
     "name": "stdout",
     "output_type": "stream",
     "text": [
      "{\n",
      "    \"TargetLanguageCode\": \"en\", \n",
      "    \"TranslatedText\": \"Saudi Crown Prince and Deputy Prime Minister, Minister of Defence and Chairman of the Saudi Public Investment Fund, Mohamed bin Salman, signed a memorandum of understanding in New York with Sun Jia, Chief Executive Officer of Soft Bank Group of Japan, to agree on the intention of the Saudi Government and Soft Bank Group to cooperate in building the world's largest solar power project in Saudi Arabia or to create about 100,000 jobs in Saudi Arabia. According to the plans of the parties, two solar power plants will be operational in 2019, generating 3 GW and 4.2 GW, respectively. The Saudi Government will complete the manufacture and development of solar panels, which are expected to generate 150 GW and 200 GW by 2030. The feasibility report of the project will be completed by May 2018.\", \n",
      "    \"SourceLanguageCode\": \"zh\"\n",
      "}\n"
     ]
    }
   ],
   "source": [
    "%%bash\n",
    "\n",
    "aws translate translate-text \\\n",
    "--source-language-code \"zh\" \\\n",
    "--target-language-code \"en\" \\\n",
    "--text \"沙特王储兼副首相、国防大臣、沙特公共投资基金主席穆罕默德·本·萨勒曼在纽约与日本软银集团首席执行官孙正义签署谅解备忘录，就沙特政府与软银集团在沙特合作建设全球最大的太阳能发电项目达成一致意向，或将为沙特创造约10万个就业机会。根据双方规划，2019年将有两座太阳能发电厂投入使用，发电量分别为3千兆瓦和4.2千兆瓦。沙特政府将完成太阳能电池板的制造和开发，预计到2030年，该项目发电量将达到150千兆瓦和200千兆瓦。该项目可行性报告将于2018年5月前完成。\"\n"
   ]
  },
  {
   "cell_type": "markdown",
   "metadata": {},
   "source": [
    "## 2. Using the Python SDK"
   ]
  },
  {
   "cell_type": "code",
   "execution_count": 3,
   "metadata": {},
   "outputs": [
    {
     "name": "stdout",
     "output_type": "stream",
     "text": [
      "CPU times: user 3 µs, sys: 1e+03 ns, total: 4 µs\n",
      "Wall time: 9.06 µs\n"
     ]
    }
   ],
   "source": [
    "import boto3\n",
    "import time\n",
    "\n",
    "# Arabic text\n",
    "ar_text = \"أخذت الطائرات الصغيرة بدون طيّار مجدها خلال 2016، حيث قامت كل شركة بالاستفادة منها بالطريقة التي تجدها مناسبة، فيسبوك مثلا استخدمتها لبثّ الإنترنت، ويوتيوب في مجال التصوير والبثّ التلفزيوني، ومن الطبيعي أن تقوم أمازون باستخدامها لتوصيل الطلبات، وهذا ما جرى فعلا. لكنها قرّرت الابتكار أكثر، لتكشف عن براءة اختراع لمتجر كامل يطير تنطلق منه طائرات بدون طيّار لتوصيل الطلبات، وبالتالي يُمكن ضمان وجود الكثير من المتاجر في نقاط جغرافية مُختلفة لتقليل زمن الشحن قدر الإمكان(1). وعلاوة على ذلك، أكّدت الشركة أنها سوف تستثمر مليارا ونصف المليار دولار أميركي لإنشاء قاعدة شحن جوّية قادرة على استيعاب 40 طائرة شحن تقريبا، وهذا لتحسين جودة خدماتها قدر الإمكان\"\n",
    "\n",
    "# Connect to Translate as a client\n",
    "translate = boto3.client('translate')\n",
    "\n",
    "# Send a request with the arabic text\n",
    "%time\n",
    "response = translate.translate_text(\n",
    "      Text=ar_text,\n",
    "      SourceLanguageCode='ar',\n",
    "      TargetLanguageCode='en'\n",
    "  )\n"
   ]
  },
  {
   "cell_type": "code",
   "execution_count": 4,
   "metadata": {},
   "outputs": [
    {
     "data": {
      "text/plain": [
       "'Small drones took their glory in 2016, and each company took advantage of them in the way they find fit, for example Facebook used them to broadcast the Internet, YouTube in the field of photography and television broadcasting, and it is natural for Amazon to use them to deliver orders, which has already happened. However, it decided to innovate further, revealing a patent for an entire store from which drones fly to deliver orders, thus ensuring that many shops are located at different geographical points to minimize shipping time. Furthermore, the company confirmed that it would invest $1.5 billion to establish an air cargo base capable of accommodating approximately 40 cargo aircraft, thus improving the quality of its services as much as possible.'"
      ]
     },
     "execution_count": 4,
     "metadata": {},
     "output_type": "execute_result"
    }
   ],
   "source": [
    "# Here is the translated text\n",
    "\n",
    "response['TranslatedText']"
   ]
  },
  {
   "cell_type": "markdown",
   "metadata": {},
   "source": [
    "# EOF"
   ]
  },
  {
   "cell_type": "code",
   "execution_count": null,
   "metadata": {},
   "outputs": [],
   "source": []
  }
 ],
 "metadata": {
  "kernelspec": {
   "display_name": "Python 3",
   "language": "python",
   "name": "python3"
  },
  "language_info": {
   "codemirror_mode": {
    "name": "ipython",
    "version": 3
   },
   "file_extension": ".py",
   "mimetype": "text/x-python",
   "name": "python",
   "nbconvert_exporter": "python",
   "pygments_lexer": "ipython3",
   "version": "3.6.5"
  }
 },
 "nbformat": 4,
 "nbformat_minor": 2
}
