{
 "cells": [
  {
   "cell_type": "code",
   "execution_count": 1,
   "metadata": {},
   "outputs": [],
   "source": [
    "# Detect labels in images\n",
    "\n",
    "def detect_labels(rek, bucket, key, max_labels=10, min_confidence=90, region=\"eu-west-1\"):\n",
    "    response = rek.detect_labels(\n",
    "        Image={\n",
    "            \"S3Object\": {\n",
    "                \"Bucket\": bucket,\n",
    "                \"Name\": key,\n",
    "            }\n",
    "        },\n",
    "        MaxLabels=max_labels,\n",
    "        MinConfidence=min_confidence,\n",
    "    )\n",
    "    return response['Labels']\n",
    "\n",
    "\n",
    "def detect_faces(rek, bucket, key, attributes=['ALL']):\n",
    "    response = rek.detect_faces(\n",
    "        Image={\n",
    "            \"S3Object\": {\n",
    "                \"Bucket\": bucket,\n",
    "                \"Name\": key,\n",
    "            }\n",
    "        },\n",
    "        Attributes=attributes,\n",
    "    )\n",
    "    return response['FaceDetails']\n"
   ]
  },
  {
   "cell_type": "code",
   "execution_count": 2,
   "metadata": {},
   "outputs": [],
   "source": [
    "import boto3\n",
    "import pprint\n",
    "from IPython.display import Image\n",
    "\n",
    "# Vars\n",
    "rek = boto3.client('rekognition', region_name='us-east-1')\n",
    "BUCKET = 'aws-ai'\n",
    "KEY = 'images/swimmer.png'\n"
   ]
  },
  {
   "cell_type": "code",
   "execution_count": 3,
   "metadata": {},
   "outputs": [
    {
     "data": {
      "image/png": "[encoded data removed]",
      "text/plain": [
       "<IPython.core.display.Image object>"
      ]
     },
     "execution_count": 3,
     "metadata": {},
     "output_type": "execute_result"
    }
   ],
   "source": [
    "Image(\"https://s3.amazonaws.com/aws-ai/images/swimmer.png\")\n"
   ]
  },
  {
   "cell_type": "code",
   "execution_count": 4,
   "metadata": {},
   "outputs": [
    {
     "name": "stdout",
     "output_type": "stream",
     "text": [
      "'Diver - 97.14745330810547%'\n",
      "'Diving - 97.14745330810547%'\n",
      "'Human - 97.14745330810547%'\n",
      "'Person - 97.14745330810547%'\n",
      "'Sport - 97.14745330810547%'\n",
      "'Sports - 97.14745330810547%'\n",
      "'Water - 97.14745330810547%'\n",
      "'Swimming - 96.37855529785156%'\n"
     ]
    }
   ],
   "source": [
    "for label in detect_labels(rek, BUCKET, KEY):\n",
    "    pprint.pprint(\"{Name} - {Confidence}%\".format(**label))"
   ]
  },
  {
   "cell_type": "markdown",
   "metadata": {},
   "source": [
    "## Face Detection"
   ]
  },
  {
   "cell_type": "code",
   "execution_count": 5,
   "metadata": {},
   "outputs": [
    {
     "name": "stdout",
     "output_type": "stream",
     "text": [
      "  Face (99.5625228881836%)\n",
      "  ANGRY : 72.31179809570312%\n",
      "  SURPRISED : 70.24728393554688%\n",
      "  CONFUSED : 6.807428359985352%\n",
      "  Brightness : 55.002140045166016\n",
      "  Sharpness : 89.90251922607422\n"
     ]
    }
   ],
   "source": [
    "\n",
    "for face in detect_faces(rek, BUCKET, KEY):\n",
    "    print(\"  Face ({Confidence}%)\".format(**face))\n",
    "    # emotions\n",
    "    for emotion in face['Emotions']:\n",
    "        print(\"  {Type} : {Confidence}%\".format(**emotion))\n",
    "    # quality\n",
    "    for quality, value in face['Quality'].items():\n",
    "        print(\"  {quality} : {value}\".format(quality=quality, value=value))\n",
    "    # facial features\n",
    "#     for feature, data in face.items():\n",
    "# #         if feature not in FEATURES_BLACKLIST:\n",
    "#             print(\"  {feature}({data[Value]}) : {data[Confidence]}%\".format(feature=feature, data=data))\n"
   ]
  },
  {
   "cell_type": "code",
   "execution_count": null,
   "metadata": {},
   "outputs": [],
   "source": []
  }
 ],
 "metadata": {
  "kernelspec": {
   "display_name": "Python 3",
   "language": "python",
   "name": "python3"
  },
  "language_info": {
   "codemirror_mode": {
    "name": "ipython",
    "version": 3
   },
   "file_extension": ".py",
   "mimetype": "text/x-python",
   "name": "python",
   "nbconvert_exporter": "python",
   "pygments_lexer": "ipython3",
   "version": "3.6.3"
  }
 },
 "nbformat": 4,
 "nbformat_minor": 2
}
