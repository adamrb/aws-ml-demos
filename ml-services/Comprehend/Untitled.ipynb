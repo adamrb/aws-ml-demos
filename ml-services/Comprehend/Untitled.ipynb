{
 "cells": [
  {
   "cell_type": "code",
   "execution_count": 1,
   "metadata": {},
   "outputs": [
    {
     "name": "stderr",
     "output_type": "stream",
     "text": [
      "bash: line 10: syntax error near unexpected token `('\n",
      "bash: line 10: `bridge that connects the two countries \"so that during this time of the Holy Week, (Venezuelans) can celebrate the'\n"
     ]
    }
   ],
   "source": [
    "%%bash\n",
    "\n",
    "aws comprehend detect-sentiment --region us-east-1 --language-code en --text With Easter around the corner and Venezuela facing a shortage of Communion wafers, a faith community across the border in Colombia stepped in with a donation of 250,000 of the holy discs. Venezuela's devastating food crisis means wheat\n",
    "flour has become a rare commodity in the country. Some churches have run out of the ingredient needed to make the\n",
    "sacramental bread that is central to celebrating the Holy Eucharist throughout the year -- and on Easter Sunday,\n",
    "according to local reports.\n",
    "A priest in the city of Mérida, in the Andes, told Catholic newspaper La Croix he and\n",
    "fellow ministers have had to \"appeal to churchgoers to take flour to the nuns who make the hosts.\"\n",
    "So, members of the Catholic diocese of Cúcuta, Colombia, braved heavy rain this week to deliver the wafers over a\n",
    "bridge that connects the two countries \"so that during this time of the Holy Week, (Venezuelans) can celebrate the\n",
    "central mysteries of the Christian faith,\" the community said in a statement on Facebook. Venezuela's economic\n",
    "crisis, fueled by a decline in oil production, shows no signs of improvement. People are starving because of\n",
    "routine food shortages. They are dying in hospitals because basic medicine and equipment aren't available.\n"
   ]
  },
  {
   "cell_type": "code",
   "execution_count": null,
   "metadata": {},
   "outputs": [],
   "source": []
  }
 ],
 "metadata": {
  "kernelspec": {
   "display_name": "Python 3",
   "language": "python",
   "name": "python3"
  },
  "language_info": {
   "codemirror_mode": {
    "name": "ipython",
    "version": 3
   },
   "file_extension": ".py",
   "mimetype": "text/x-python",
   "name": "python",
   "nbconvert_exporter": "python",
   "pygments_lexer": "ipython3",
   "version": "3.6.3"
  }
 },
 "nbformat": 4,
 "nbformat_minor": 2
}
