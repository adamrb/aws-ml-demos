{
 "cells": [
  {
   "cell_type": "code",
   "execution_count": 3,
   "metadata": {},
   "outputs": [
    {
     "name": "stdout",
     "output_type": "stream",
     "text": [
      "{\n",
      "    \"SentimentScore\": {\n",
      "        \"Mixed\": 0.006252674385905266, \n",
      "        \"Positive\": 0.015825392678380013, \n",
      "        \"Neutral\": 0.9587246775627136, \n",
      "        \"Negative\": 0.019197262823581696\n",
      "    }, \n",
      "    \"Sentiment\": \"NEUTRAL\"\n",
      "}\n"
     ]
    }
   ],
   "source": [
    "%%bash\n",
    "\n",
    "aws comprehend detect-sentiment --region us-east-1 --language-code en --text \"\\'With Easter around the corner and Venezuela facing a shortage of Communion wafers, a faith community across the border in Colombia stepped in with a donation of 250,000 of the holy discs. Venezuela\\'s devastating food crisis means wheat flour has become a rare commodity in the country. Some churches have run out of the ingredient needed to make the sacramental bread that is central to celebrating the Holy Eucharist throughout the year -- and on Easter Sunday, according to local reports. A priest in the city of Mérida, in the Andes, told Catholic newspaper La Croix he and fellow ministers have had to \\\"appeal to churchgoers to take flour to the nuns who make the hosts.\\\" So, members of the Catholic diocese of Cúcuta, Colombia, braved heavy rain this week to deliver the wafers over a bridge that connects the two countries \\\"so that during this time of the Holy Week, (Venezuelans) can celebrate the central mysteries of the Christian faith,\\\" the community said in a statement on Facebook. Venezuela\\'s economic crisis, fueled by a decline in oil production, shows no signs of improvement. People are starving because of routine food shortages. They are dying in hospitals because basic medicine and equipment aren\\'t available.\"\n"
   ]
  },
  {
   "cell_type": "code",
   "execution_count": null,
   "metadata": {},
   "outputs": [],
   "source": []
  }
 ],
 "metadata": {
  "kernelspec": {
   "display_name": "Python 3",
   "language": "python",
   "name": "python3"
  },
  "language_info": {
   "codemirror_mode": {
    "name": "ipython",
    "version": 3
   },
   "file_extension": ".py",
   "mimetype": "text/x-python",
   "name": "python",
   "nbconvert_exporter": "python",
   "pygments_lexer": "ipython3",
   "version": "3.6.3"
  }
 },
 "nbformat": 4,
 "nbformat_minor": 2
}
