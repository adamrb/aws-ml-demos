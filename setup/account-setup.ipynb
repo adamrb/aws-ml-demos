{
 "cells": [
  {
   "cell_type": "markdown",
   "metadata": {},
   "source": [
    "# 1. Install Pip\n",
    "\n",
    "Pip is a package management software for python. Follow the steps here (https://pip.pypa.io/en/stable/installing/) to install pip.\n",
    "\n",
    "# 2. Install the Python SDK\n",
    "\n",
    "The AWS Python SDK will allow you to connect with AWS resources from your laptop and your applications. It's called Boto, [Boto3](https://github.com/boto/boto3) for Python3. We will use Boto3 in all the examples in this repo, so get it with the following commands:\n",
    "\n",
    "```bash\n",
    "\n",
    "pip install --upgrade pip\n",
    "pip install boto3\n",
    "\n",
    "```\n",
    "# 3. Install the SageMaker Python SDK\n",
    "\n",
    "Amazon SageMaker provides an end-to-end machine learning platform that is available behind a few API calls. SageMaker provides a powerful [Python SDK](https://github.com/aws/sagemaker-python-sdk) that you can use to submit training jobs to the platfom, query training jobs state, and other things like create/delete machine-learning infrastructure.\n",
    "\n",
    "To install the SageMaker Python SDK, run this command:\n",
    "\n",
    "```bash\n",
    "\n",
    "pip install sagemaker\n",
    "\n",
    "```\n",
    "\n",
    "If you intend to use SageMaker with Spark, also look at the SageMaker Spark SDK here: https://github.com/aws/sagemaker-spark\n",
    "\n",
    "\n",
    "# 4. Install  the AWS CLI\n",
    "\n",
    "\n",
    "See more information about the AWS CLI [here](https://docs.aws.amazon.com/cli/latest/userguide/installing.html).\n",
    "\n",
    "The AWS CLI will make it easy to play with AWS resources by sending commands from your laptop. It's great for experimentation and getting a rapid preview of what the ML services can do for you. We will use the AWS CLI to test the ML API services, so get it with the commands below:\n",
    "\n",
    "`\n",
    "pip install awscli\n",
    "`\n",
    "\n",
    "For Mac OSX users, Homebrew (http://brew.sh/) is an alternative solution for package installation. After installing Homebrew, you can install the AWS CLI with `brew install awscli && brew upgrade awscli`\n",
    "\n",
    "## 4.1 Configure the CLI\n",
    "\n",
    "After creating your AWS Account, you will need to create an IAM user whith enough access rights to interact with the ML products. Once you have a valid IAM user, you will need to download its `access key` and `secret key` which you will use to configure the CLI. Once you have the credentials, run the following and follow the instructions in the prompt:\n",
    "\n",
    "```\n",
    "aws configure\n",
    "```\n",
    "\n",
    "Credentials are stored in ~/.aws/credentials. \n",
    "\n",
    "## 4.2 Test the CLI\n",
    "\n",
    "You can test your CLI setup with the following commands:\n",
    "\n",
    "``` bash\n",
    "aws sagemaker help\n",
    "\n",
    "# To list your S3 buckets\n",
    "aws s3 ls\n",
    "\n",
    "# Create an s3 bucket. Bucket names must be unique\n",
    "\n",
    "aws s3 mb s3://<your-first-name>-<your-last-name>\n",
    "\n",
    "```\n"
   ]
  },
  {
   "cell_type": "markdown",
   "metadata": {},
   "source": [
    "# 5 Test a Python Boto Script\n",
    "\n",
    "Let's run some boto tests:"
   ]
  },
  {
   "cell_type": "code",
   "execution_count": 1,
   "metadata": {},
   "outputs": [],
   "source": [
    "# import the SDKs\n",
    "\n",
    "import boto3\n",
    "import sagemaker"
   ]
  },
  {
   "cell_type": "code",
   "execution_count": 3,
   "metadata": {},
   "outputs": [],
   "source": [
    "# Get client connections to AWS Services\n",
    "s3 = boto3.client('s3')\n",
    "sagemaker = boto3.client('sagemaker')\n",
    "rek = boto3.client('rekognition')\n",
    "polly = boto3.client('polly')\n",
    "comprehend = boto3.client('comprehend')\n",
    "translate = boto3.client('translate')\n",
    "transcribe = boto3.client('transcribe')"
   ]
  },
  {
   "cell_type": "markdown",
   "metadata": {},
   "source": [
    "Easy right? You are now connected to AWS ML. Let's try a simple translation:\n"
   ]
  },
  {
   "cell_type": "code",
   "execution_count": 6,
   "metadata": {},
   "outputs": [],
   "source": [
    "text = \"\"\"O, were that all! I think not on my father;\n",
    "And these great tears grace his remembrance more\n",
    "Than those I shed for him. What was he like?\n",
    "I have forgot him: my imagination\n",
    "Carries no favour in't but Bertram's.\n",
    "I am undone: there is no living, none,\n",
    "If Bertram be away. 'Twere all one\n",
    "That I should love a bright particular star\n",
    "And think to wed it, he is so above me:\n",
    "In his bright radiance and collateral light\n",
    "Must I be comforted, not in his sphere.\n",
    "The ambition in my love thus plagues itself:\n",
    "The hind that would be mated by the lion\n",
    "Must die for love. 'Twas pretty, though plague,\n",
    "To see him every hour; to sit and draw\n",
    "His arched brows, his hawking eye, his curls,\n",
    "In our heart's table; heart too capable\n",
    "Of every line and trick of his sweet favour:\n",
    "But now he's gone, and my idolatrous fancy\n",
    "Must sanctify his reliques. Who comes here?\"\"\""
   ]
  },
  {
   "cell_type": "code",
   "execution_count": 12,
   "metadata": {},
   "outputs": [
    {
     "data": {
      "text/plain": [
       "\"O, were that all! I think not on my father;\\nAnd these great tears grace his remembrance more\\nThan those I shed for him. What was he like?\\nI have forgot him: my imagination\\nCarries no favour in't but Bertram's.\\nI am undone: there is no living, none,\\nIf Bertram be away. 'Twere all one\\nThat I should love a bright particular star\\nAnd think to wed it, he is so above me:\\nIn his bright radiance and collateral light\\nMust I be comforted, not in his sphere.\\nThe ambition in my love thus plagues itself:\\nThe hind that would be mated by the lion\\nMust die for love. 'Twas pretty, though plague,\\nTo see him every hour; to sit and draw\\nHis arched brows, his hawking eye, his curls,\\nIn our heart's table; heart too capable\\nOf every line and trick of his sweet favour:\\nBut now he's gone, and my idolatrous fancy\\nMust sanctify his reliques. Who comes here?\""
      ]
     },
     "execution_count": 12,
     "metadata": {},
     "output_type": "execute_result"
    }
   ],
   "source": [
    "text"
   ]
  },
  {
   "cell_type": "markdown",
   "metadata": {},
   "source": [
    "Now let's call the translation service."
   ]
  },
  {
   "cell_type": "code",
   "execution_count": 21,
   "metadata": {},
   "outputs": [],
   "source": [
    "# Simple API call to translate text from english to french\n",
    "\n",
    "response = translate.translate_text(\n",
    "      Text=text,\n",
    "      SourceLanguageCode='en',\n",
    "      TargetLanguageCode='fr'\n",
    "  )"
   ]
  },
  {
   "cell_type": "code",
   "execution_count": 22,
   "metadata": {},
   "outputs": [
    {
     "data": {
      "text/plain": [
       "\"Oh, c'était tout! Je ne pense pas à mon père; Et ces grandes larmes grèvent son souvenir plus que ceux que j'ai versé pour lui. A quoi ressemblait-il? Je l'ai oublié: mon imagination ne porte pas de faveur, mais celle de Bertram. Je suis défait: il n'y a pas de vie, il n'y a pas de vie, si Bertram est absent. “Twere all That I should love a bright particular star And think to wed it, he is so above me: In his bright radiance and collateral light Dois-je être réconforté, not in his sphere. L'ambition de mon amour se plonge ainsi: l'arrière qui serait accouplé par le lion doit mourir pour l'amour. “C'était joli, bien que peste, de le voir toutes les heures; de s'asseoir et de dessiner Ses sourcils arqués, son œil perdant, ses boucles, Dans la table de notre coeur; coeur trop capable De toutes les lignes et astuces de sa faveur douce: Mais maintenant il est parti, et ma fantaisie idolâtreuse doit sanctifier ses reliques. Qui vient ici?\""
      ]
     },
     "execution_count": 22,
     "metadata": {},
     "output_type": "execute_result"
    }
   ],
   "source": [
    "response['TranslatedText'].replace(u'\\xa0','')"
   ]
  },
  {
   "cell_type": "markdown",
   "metadata": {},
   "source": [
    "# EOF"
   ]
  },
  {
   "cell_type": "code",
   "execution_count": null,
   "metadata": {},
   "outputs": [],
   "source": []
  }
 ],
 "metadata": {
  "kernelspec": {
   "display_name": "Python 3",
   "language": "python",
   "name": "python3"
  },
  "language_info": {
   "codemirror_mode": {
    "name": "ipython",
    "version": 3
   },
   "file_extension": ".py",
   "mimetype": "text/x-python",
   "name": "python",
   "nbconvert_exporter": "python",
   "pygments_lexer": "ipython3",
   "version": "3.6.3"
  }
 },
 "nbformat": 4,
 "nbformat_minor": 2
}
